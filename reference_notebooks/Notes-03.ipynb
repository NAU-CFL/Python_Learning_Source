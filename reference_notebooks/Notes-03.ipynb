{
 "cells": [
  {
   "cell_type": "markdown",
   "metadata": {},
   "source": [
    "# Conditionals and Recursion\n",
    "\n",
    "## Modulus Operator\n",
    "\n",
    "The modulus operator works on integers and yields the remainder when the first operand is divided by the second. In Python, the modulus operator is a percent sign ```(%)```. The syntax is the same as for other operators:"
   ]
  },
  {
   "cell_type": "code",
   "execution_count": 2,
   "metadata": {
    "collapsed": false
   },
   "outputs": [
    {
     "name": "stdout",
     "output_type": "stream",
     "text": [
      "2.33\n",
      "1\n"
     ]
    }
   ],
   "source": [
    "quotient = 7 / 3\n",
    "print(format(quotient, '.2f'))\n",
    "\n",
    "remainder = 7 % 3\n",
    "print(remainder)"
   ]
  },
  {
   "cell_type": "markdown",
   "metadata": {},
   "source": [
    "The modulus operator turns out to be surprisingly useful. For example, you can check whether one number is divisible by another\n",
    "\n",
    "    if x % y is zero, then x is divisible by y.\n",
    "    \n",
    "Also, you can extract the right-most digit or digits from a number. \n",
    "\n",
    "    x % 10 yields the right-most digit of x (in base 10). Similarly x % 100 yields the last two digits.\n",
    "    \n",
    "    \n",
    "    \n",
    "## Boolean Expressions\n",
    "\n",
    "A boolean expression is an expression that is either true or false. The following examples use the operator ```==```, which compares two operands and produces ```True``` if they are equal and ```False``` otherwise:"
   ]
  },
  {
   "cell_type": "code",
   "execution_count": 3,
   "metadata": {
    "collapsed": false
   },
   "outputs": [
    {
     "data": {
      "text/plain": [
       "True"
      ]
     },
     "execution_count": 3,
     "metadata": {},
     "output_type": "execute_result"
    }
   ],
   "source": [
    "5 == 5"
   ]
  },
  {
   "cell_type": "code",
   "execution_count": 4,
   "metadata": {
    "collapsed": false
   },
   "outputs": [
    {
     "data": {
      "text/plain": [
       "False"
      ]
     },
     "execution_count": 4,
     "metadata": {},
     "output_type": "execute_result"
    }
   ],
   "source": [
    "5 == 6"
   ]
  },
  {
   "cell_type": "markdown",
   "metadata": {},
   "source": [
    "The ```True``` and ```False``` are special values that belong to the type ```bool```; they are not strings:"
   ]
  },
  {
   "cell_type": "code",
   "execution_count": 6,
   "metadata": {
    "collapsed": false
   },
   "outputs": [
    {
     "data": {
      "text/plain": [
       "(bool, bool)"
      ]
     },
     "execution_count": 6,
     "metadata": {},
     "output_type": "execute_result"
    }
   ],
   "source": [
    "type(True), type(False)"
   ]
  },
  {
   "cell_type": "markdown",
   "metadata": {},
   "source": [
    "The ```==``` operator is one of the relational operators; the others are:\n",
    "            x != y                    # x is not equal to y\n",
    "            x > y                     # x is greater than y\n",
    "            x < y                     # x is less than y\n",
    "            x >= y                    # x is greater than or equal to y\n",
    "            x <= y                    # x is less than or equal to y\n",
    "            \n",
    "Although these operations are probably familiar to you, the Python symbols are different from the mathematical symbols. A common error is to use a single equal sign (=) instead of a double equal sign (==). Remember that = is an assignment operator and ```==``` is a relational operator. There is no such thing as ```=< or =>```.\n",
    "\n",
    "## Logical Operators\n",
    "\n",
    "There are three __logical operators__: and, or, and not. The semantics (meaning) of these operators is similar to their meaning in English. For example, ```x > 0 and x < 10``` is true only if x is greater than 0 and less than 10.\n",
    "\n",
    "    n%2 == 0 or n%3 == 0 is true if either of the conditions is true, that is, if the number is divisible by 2 or 3.\n",
    "\n",
    "## Conditional Execution\n",
    "In order to write useful programs, we almost always need the ability to check conditions and change the behavior of the program accordingly. Conditional statements give us this ability. The simplest form is the if statement:"
   ]
  },
  {
   "cell_type": "code",
   "execution_count": null,
   "metadata": {
    "collapsed": true
   },
   "outputs": [],
   "source": []
  }
 ],
 "metadata": {
  "anaconda-cloud": {},
  "kernelspec": {
   "display_name": "Python [default]",
   "language": "python",
   "name": "python3"
  },
  "language_info": {
   "codemirror_mode": {
    "name": "ipython",
    "version": 3
   },
   "file_extension": ".py",
   "mimetype": "text/x-python",
   "name": "python",
   "nbconvert_exporter": "python",
   "pygments_lexer": "ipython3",
   "version": "3.5.2"
  }
 },
 "nbformat": 4,
 "nbformat_minor": 1
}
