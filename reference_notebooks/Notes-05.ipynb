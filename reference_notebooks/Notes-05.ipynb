{
 "cells": [
  {
   "cell_type": "markdown",
   "metadata": {},
   "source": [
    "# Iteration\n",
    "\n",
    "## Multiple Assignments\n",
    "\n",
    "It's legal to assign a new value to an existing variable. A new assignment makes an existing variable refer to a new value (and stop referring to the old value).\n"
   ]
  },
  {
   "cell_type": "code",
   "execution_count": 2,
   "metadata": {
    "collapsed": false
   },
   "outputs": [
    {
     "name": "stdout",
     "output_type": "stream",
     "text": [
      "5\n",
      "7\n"
     ]
    }
   ],
   "source": [
    "bruce = 5\n",
    "print(bruce)\n",
    "bruce = 7\n",
    "print(bruce)"
   ]
  },
  {
   "cell_type": "markdown",
   "metadata": {},
   "source": [
    "With multiple assignment it is especially important to distinguish between an assignment operation and a statement of equality. Because Python uses the equal sign ```(=)``` for assignment, it is tempting to interpret a statement like ```a = b``` as a statement of equality. __It is not!__\n",
    "\n",
    "First, equality is a symmetric relation and assignment is not. For example, in mathematics, if ```a = 7``` then ```7 = a```. But in Python, the statement ```a = 7``` is legal and ```7 = a``` is not.\n",
    "\n",
    "Furthermore, in mathematics, a statement of equality is either true or false, for all time. If ```a = b``` now, then a will always equal b. In Python, an assignment statement can make two variables equal, but they don’t have to stay that way:"
   ]
  },
  {
   "cell_type": "code",
   "execution_count": 4,
   "metadata": {
    "collapsed": false
   },
   "outputs": [
    {
     "name": "stdout",
     "output_type": "stream",
     "text": [
      "a is:  5\n",
      "b is:  5\n",
      "a is:  3\n"
     ]
    }
   ],
   "source": [
    "a = 5\n",
    "print(\"a is: \", a)\n",
    "b = a # a and b are now equal\n",
    "print(\"b is: \", b)\n",
    "a = 3 # a and b are no longer equal\n",
    "print(\"a is: \", a)"
   ]
  },
  {
   "cell_type": "markdown",
   "metadata": {},
   "source": [
    "## Updating Variables\n",
    "\n",
    "One of the most common forms of multiple assignment is an update, where the new value of the variable depends on the old.\n",
    "\n",
    "```Python\n",
    "x = x + 1\n",
    "```\n",
    "This means “get the current value of x, add one, and then update x with the new value.”\n",
    "\n",
    "If you try to update a variable that doesn’t exist, you get an error, because Python evaluates the right side before it assigns a value to x:"
   ]
  },
  {
   "cell_type": "code",
   "execution_count": 5,
   "metadata": {
    "collapsed": false
   },
   "outputs": [
    {
     "ename": "NameError",
     "evalue": "name 'x' is not defined",
     "output_type": "error",
     "traceback": [
      "\u001b[0;31m---------------------------------------------------------------------------\u001b[0m",
      "\u001b[0;31mNameError\u001b[0m                                 Traceback (most recent call last)",
      "\u001b[0;32m<ipython-input-5-f2b128a9dd19>\u001b[0m in \u001b[0;36m<module>\u001b[0;34m()\u001b[0m\n\u001b[0;32m----> 1\u001b[0;31m \u001b[0mx\u001b[0m \u001b[0;34m=\u001b[0m \u001b[0mx\u001b[0m \u001b[0;34m+\u001b[0m \u001b[0;36m1\u001b[0m\u001b[0;34m\u001b[0m\u001b[0m\n\u001b[0m",
      "\u001b[0;31mNameError\u001b[0m: name 'x' is not defined"
     ]
    }
   ],
   "source": [
    "x = x + 1"
   ]
  },
  {
   "cell_type": "markdown",
   "metadata": {},
   "source": [
    "Before you can update a variable, you have to __initialize__ it, usually with a simple assignment:\n",
    "\n",
    "```Python\n",
    "x = 0\n",
    "x = x + 1\n",
    "```\n",
    "Updating a variable by adding 1 is called an __increment__; subtracting 1 is called a __decrement__."
   ]
  },
  {
   "cell_type": "markdown",
   "metadata": {},
   "source": [
    "## The ```while``` Statements\n",
    "\n",
    "Computers are often used to automate repetitive tasks. Repeating identical or similar tasks without making errors is something that computers do well and people do poorly.\n",
    "\n",
    "We have seen recursion to perform repetition, which is also called iteration. Because iteration is so common, Python provides several language features to make it easier, like ```for``` loops which we will cover later.\n",
    "\n",
    "Another is the ```while``` statement. Here is a version of ```countdown``` that uses a while statement:"
   ]
  },
  {
   "cell_type": "code",
   "execution_count": 6,
   "metadata": {
    "collapsed": false
   },
   "outputs": [
    {
     "name": "stdout",
     "output_type": "stream",
     "text": [
      "10\n",
      "9\n",
      "8\n",
      "7\n",
      "6\n",
      "5\n",
      "4\n",
      "3\n",
      "2\n",
      "1\n",
      "Blastoff!\n"
     ]
    }
   ],
   "source": [
    "def countdown(n):\n",
    "    while n > 0:\n",
    "        print(n)\n",
    "        n = n - 1\n",
    "    print('Blastoff!')\n",
    "countdown(10)"
   ]
  },
  {
   "cell_type": "markdown",
   "metadata": {},
   "source": [
    "You can almost read the ```while``` statement as if it were English. It means, “While n is greater than 0, display the value of ```n``` and then reduce the value of ```n``` by 1. When you get to 0, display the word ```Blastoff!```”\n",
    "\n",
    "Here is the flow of execution for a while statement:\n",
    "\n",
    "1. Evaluate the condition, yielding ```True``` or ```False```.\n",
    "2. If the condition is false, exit the ```while``` statement and continue execution at the next statement.\n",
    "3. If the condition is true, execute the body and then go back to step 1.\n",
    "\n",
    "This type of flow is called a ```loop``` because the third step loops back around to the top.\n",
    "\n",
    "--- \n",
    "\n",
    "## break\n",
    "\n",
    "Sometimes you don’t know it’s time to end a loop until you get half way through the body. In that case you can use the ```break``` statement to jump out of the loop.\n",
    "\n",
    "For example, suppose you want to take input from the user until they type ```done```. You could write:"
   ]
  },
  {
   "cell_type": "code",
   "execution_count": 8,
   "metadata": {
    "collapsed": false
   },
   "outputs": [
    {
     "name": "stdout",
     "output_type": "stream",
     "text": [
      "> Enes\n",
      "Enes\n",
      "> This is cool\n",
      "This is cool\n",
      "> done\n",
      "Done!\n"
     ]
    }
   ],
   "source": [
    "while True:\n",
    "    line = input('> ')\n",
    "    if line == 'done':\n",
    "        break\n",
    "    print(line)\n",
    "\n",
    "print('Done!')"
   ]
  },
  {
   "cell_type": "markdown",
   "metadata": {},
   "source": [
    "The loop condition is ```True```, which is always true, so the loop runs until it hits the break statement.\n",
    "\n",
    "Each time through, it prompts the user with an angle bracket. If the user types ```done```, the ```break``` statement exits the loop. Otherwise the program echoes whatever the user types and goes back to the top of the loop.\n",
    "\n",
    "This way of writing ```while``` loops is common because you can check the condition anywhere in the loop (not just at the top) and you can express the stop condition affirmatively (“stop when this happens”) rather than negatively (“keep going until that happens.”)."
   ]
  },
  {
   "cell_type": "markdown",
   "metadata": {},
   "source": [
    "## Square Roots\n",
    "\n",
    "Loops are often used in programs that compute numerical results by starting with an approximate answer and iteratively improving it.\n",
    "\n",
    "For example, one way of computing square roots is Newton’s method. Suppose that you want to know the square root of a. If you start with almost any estimate, x, you can compute a better estimate with the following formula:\n",
    "\n",
    "$$ \n",
    "y = \\frac{x + a/x}{2}\n",
    "$$\n",
    "\n",
    "For example, if a is 4 and x is 3:"
   ]
  },
  {
   "cell_type": "code",
   "execution_count": 9,
   "metadata": {
    "collapsed": false
   },
   "outputs": [
    {
     "name": "stdout",
     "output_type": "stream",
     "text": [
      "2.1666666666666665\n"
     ]
    }
   ],
   "source": [
    "a = 4\n",
    "x = 3\n",
    "y = (x + a/x)/2\n",
    "print(y)"
   ]
  },
  {
   "cell_type": "markdown",
   "metadata": {},
   "source": [
    "Which is closer to the correct answer $\\sqrt{4} = 2$. If we repeat the process with the new estimate, it gets even closer:"
   ]
  },
  {
   "cell_type": "code",
   "execution_count": 10,
   "metadata": {
    "collapsed": false
   },
   "outputs": [
    {
     "name": "stdout",
     "output_type": "stream",
     "text": [
      "2.0064102564102564\n"
     ]
    }
   ],
   "source": [
    "x = y \n",
    "y = (x + a/x)/2\n",
    "print(y)"
   ]
  },
  {
   "cell_type": "markdown",
   "metadata": {},
   "source": [
    "After a few more updates, the estimate is almost exact:"
   ]
  },
  {
   "cell_type": "code",
   "execution_count": 11,
   "metadata": {
    "collapsed": false
   },
   "outputs": [
    {
     "name": "stdout",
     "output_type": "stream",
     "text": [
      "2.0000102400262145\n"
     ]
    }
   ],
   "source": [
    "x = y \n",
    "y = (x + a/x)/2\n",
    "print(y)"
   ]
  },
  {
   "cell_type": "code",
   "execution_count": 12,
   "metadata": {
    "collapsed": false
   },
   "outputs": [
    {
     "name": "stdout",
     "output_type": "stream",
     "text": [
      "2.0000000000262146\n"
     ]
    }
   ],
   "source": [
    "x = y \n",
    "y = (x + a/x)/2\n",
    "print(y)"
   ]
  },
  {
   "cell_type": "markdown",
   "metadata": {},
   "source": [
    "In general we don’t know ahead of time how many steps it takes to get to the right answer, but we know when we get there because the estimate stops changing.\n",
    "\n",
    "When ```y == x```, we can stop. Here is a loop that starts with an initial estimate, x, and improves it until it stops changing:"
   ]
  },
  {
   "cell_type": "code",
   "execution_count": 14,
   "metadata": {
    "collapsed": false
   },
   "outputs": [
    {
     "name": "stdout",
     "output_type": "stream",
     "text": [
      "3\n",
      "2.1666666666666665\n",
      "2.0064102564102564\n",
      "2.0000102400262145\n",
      "2.0000000000262146\n",
      "2.0\n"
     ]
    }
   ],
   "source": [
    "a = 4\n",
    "x = 3\n",
    "while True:\n",
    "    print(x)\n",
    "    y = (x + a/x) / 2\n",
    "    if y == x:\n",
    "        break\n",
    "    x = y"
   ]
  },
  {
   "cell_type": "markdown",
   "metadata": {},
   "source": [
    "For most values of a this works fine, but in general it is dangerous to test ```float``` equality. Floating-point values are only approximately right: most rational numbers, like ```1/3```, and irrational numbers, like $\\sqrt{2}$ can’t be represented exactly with a ```float```.\n",
    "\n",
    "Rather than checking whether x and y are exactly equal, it is safer to use the built-in function ```abs``` to compute the absolute value, or magnitude, of the difference between them:"
   ]
  },
  {
   "cell_type": "code",
   "execution_count": 15,
   "metadata": {
    "collapsed": false
   },
   "outputs": [
    {
     "name": "stdout",
     "output_type": "stream",
     "text": [
      "0.1\n",
      "10.05\n",
      "5.124502487562189\n",
      "2.7573921384195743\n",
      "1.741357580449592\n",
      "1.444943381958916\n",
      "1.414540330128693\n",
      "1.4142136001158034\n"
     ]
    }
   ],
   "source": [
    "a = 2\n",
    "x = 0.1\n",
    "epsilon = 0.0000001\n",
    "while True:\n",
    "    print(x)\n",
    "    y = (x + a/x) / 2\n",
    "    if abs(y-x) < epsilon:\n",
    "        break\n",
    "    x = y\n"
   ]
  },
  {
   "cell_type": "markdown",
   "metadata": {},
   "source": [
    "### Try Yourself!\n",
    "*Encapsulate this loop in a function called ```square_root``` that takes a as a parameter, chooses a reasonable value of x, and returns an estimate of the square root of a.*"
   ]
  },
  {
   "cell_type": "code",
   "execution_count": null,
   "metadata": {
    "collapsed": true
   },
   "outputs": [],
   "source": []
  },
  {
   "cell_type": "markdown",
   "metadata": {},
   "source": [
    "## Algorithms\n",
    "\n",
    "Newton’s method is an example of an __algorithm__: it is a mechanical process for solving a category of problems (in this case, computing square roots).\n",
    "\n",
    "It is not easy to define an algorithm. It might help to start with something that is not an algorithm. When you learned to multiply single-digit numbers, you probably memorized the multiplication table. In effect, you memorized 100 specific solutions. That kind of knowledge is not algorithmic.\n",
    "\n",
    "But if you were “lazy,” you probably cheated by learning a few tricks. For example, to\n",
    "find the product of n and 9, you can write n-1 as the first digit and 10-n as the second\n",
    "digit. This trick is a general solution for multiplying any single-digit number by 9. That’s\n",
    "an algorithm!\n",
    "\n",
    "Similarly, the techniques you learned for addition with carrying, subtraction with borrowing,\n",
    "and long division are all algorithms. One of the characteristics of algorithms is that\n",
    "they do not require any intelligence to carry out. They are mechanical processes in which\n",
    "each step follows from the last according to a simple set of rules.\n",
    "\n",
    "In my opinion, it is embarrassing that humans spend so much time in school learning to\n",
    "execute algorithms that, quite literally, require no intelligence.\n",
    "On the other hand, the process of designing algorithms is interesting, intellectually challenging,\n",
    "and a central part of what we call programming.\n",
    "\n",
    "Some of the things that people do naturally, without difficulty or conscious thought, are\n",
    "the hardest to express algorithmically. Understanding natural language is a good example.\n",
    "We all do it, but so far no one has been able to explain how we do it, at least not in the form\n",
    "of an algorithm."
   ]
  },
  {
   "cell_type": "markdown",
   "metadata": {
    "collapsed": true
   },
   "source": [
    "## Exercises\n",
    "\n",
    "__Exercise 1:__ *The built-in function ```eval``` takes a string and evaluates it using the Python interpreter. For example:*\n",
    "\n",
    "    eval('1 + 2 * 3') # Result -> 7\n",
    "    import math\n",
    "    eval('math.sqrt(5)') # Result -> 2.2360679774997898\n",
    "    eval('type(math.pi)') # Result -> <type 'float'>\n",
    "    \n",
    "*Write a function called ```eval_loop``` that iteratively prompts the user, takes the resulting input and evaluates it using ```eval```, and prints the result. *\n",
    "\n",
    "*It should continue until the user enters ```'done'```, and then return the value of the last expression it evaluated.*\n",
    "    "
   ]
  },
  {
   "cell_type": "code",
   "execution_count": null,
   "metadata": {
    "collapsed": true
   },
   "outputs": [],
   "source": []
  },
  {
   "cell_type": "markdown",
   "metadata": {},
   "source": [
    "__Exercise 2:__ *The mathematician Srinivasa Ramanujan found an infinite series that can be used to generate a numerical approximation of $1/\\pi$*:\n",
    "\n",
    "$$\n",
    "\\frac{1}{\\pi} = \\frac{2\\sqrt{2}}{9801} \\sum_{k=0}^{\\infty} \\frac{(4k)!(1103 + 26390k)}{(k!)^4 396^{4k}} \n",
    "$$\n",
    "\n",
    "*Write a function called ```estimate_pi``` that uses this formula to compute and return an estimate of $\\pi$. It should use a ```while``` loop to compute terms of the summation until the last term is smaller than $1e-15$ (which is Python notation for $10^{-15}$). You can check the result by comparing it to ```math.pi```.*\n",
    "\n",
    "[Solution Link](http://thinkpython.com/code/pi.py)"
   ]
  },
  {
   "cell_type": "code",
   "execution_count": null,
   "metadata": {
    "collapsed": true
   },
   "outputs": [],
   "source": []
  }
 ],
 "metadata": {
  "anaconda-cloud": {},
  "kernelspec": {
   "display_name": "Python [default]",
   "language": "python",
   "name": "python3"
  },
  "language_info": {
   "codemirror_mode": {
    "name": "ipython",
    "version": 3
   },
   "file_extension": ".py",
   "mimetype": "text/x-python",
   "name": "python",
   "nbconvert_exporter": "python",
   "pygments_lexer": "ipython3",
   "version": "3.5.2"
  }
 },
 "nbformat": 4,
 "nbformat_minor": 1
}
