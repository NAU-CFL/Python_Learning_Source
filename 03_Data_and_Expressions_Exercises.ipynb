{
 "cells": [
  {
   "cell_type": "markdown",
   "metadata": {},
   "source": [
    "## Programming Exercises\n",
    "\n",
    "__P1:__\n",
    "\n",
    "    Write a Python program that prompts the user for two integer values and displays the result of the first number divided by the second, with exactly two decimal places displayed.\n",
    "    \n",
    "\n",
    "__Solution:__"
   ]
  },
  {
   "cell_type": "code",
   "execution_count": 2,
   "metadata": {
    "collapsed": false
   },
   "outputs": [
    {
     "name": "stdout",
     "output_type": "stream",
     "text": [
      "Enter first integer: 19\n"
     ]
    }
   ],
   "source": [
    "a = int(input(\"Enter first integer: \"))"
   ]
  },
  {
   "cell_type": "code",
   "execution_count": 3,
   "metadata": {
    "collapsed": false
   },
   "outputs": [
    {
     "name": "stdout",
     "output_type": "stream",
     "text": [
      "Enter second integer: 7\n"
     ]
    }
   ],
   "source": [
    "b = int(input(\"Enter second integer: \"))"
   ]
  },
  {
   "cell_type": "code",
   "execution_count": 4,
   "metadata": {
    "collapsed": false
   },
   "outputs": [
    {
     "name": "stdout",
     "output_type": "stream",
     "text": [
      "Result is : 2.71\n"
     ]
    }
   ],
   "source": [
    "print(\"Result is :\", format((a/b), '.2f'))"
   ]
  },
  {
   "cell_type": "markdown",
   "metadata": {},
   "source": [
    "__P2:__\n",
    "\n",
    "    Write a Python program that prompts the user for two floating-point values and displays the result of the first number divided by the second, with exactly six decimal places displayed.\n",
    "    \n",
    "    \n",
    "__Solution:__"
   ]
  },
  {
   "cell_type": "code",
   "execution_count": 5,
   "metadata": {
    "collapsed": false
   },
   "outputs": [
    {
     "name": "stdout",
     "output_type": "stream",
     "text": [
      "Enter first float: 24.5\n"
     ]
    }
   ],
   "source": [
    "a = float(input(\"Enter first float: \"))"
   ]
  },
  {
   "cell_type": "code",
   "execution_count": 6,
   "metadata": {
    "collapsed": false
   },
   "outputs": [
    {
     "name": "stdout",
     "output_type": "stream",
     "text": [
      "Enter second float: 3.78\n"
     ]
    }
   ],
   "source": [
    "b = float(input(\"Enter second float: \"))"
   ]
  },
  {
   "cell_type": "code",
   "execution_count": 7,
   "metadata": {
    "collapsed": false
   },
   "outputs": [
    {
     "name": "stdout",
     "output_type": "stream",
     "text": [
      "Result is : 6.481481\n"
     ]
    }
   ],
   "source": [
    "print(\"Result is :\", format((a/b), '.6f'))"
   ]
  },
  {
   "cell_type": "markdown",
   "metadata": {},
   "source": [
    "__P3:__\n",
    "\n",
    "    Write a Python program that prompts the user to enter an upper or lower case letter and displays the corresponding ASCII encoding.\n",
    "    \n",
    "__Solution:__"
   ]
  },
  {
   "cell_type": "code",
   "execution_count": 8,
   "metadata": {
    "collapsed": false
   },
   "outputs": [
    {
     "name": "stdout",
     "output_type": "stream",
     "text": [
      "Enter a upper or lower case letter: K\n"
     ]
    }
   ],
   "source": [
    "inp = input(\"Enter a upper or lower case letter: \")"
   ]
  },
  {
   "cell_type": "code",
   "execution_count": 9,
   "metadata": {
    "collapsed": false
   },
   "outputs": [
    {
     "name": "stdout",
     "output_type": "stream",
     "text": [
      "Here is the ASCII encoding of your number: 75\n"
     ]
    }
   ],
   "source": [
    "print(\"Here is the ASCII encoding of your number: \" + str(ord(inp)))"
   ]
  },
  {
   "cell_type": "markdown",
   "metadata": {},
   "source": [
    "## Development Problems\n",
    "\n",
    "__D1: Losing Your Head over Chess__ \n",
    "    \n",
    "    The game of chess is generally believed to have been invented in India in the sixth century for a ruling\n",
    "    king by one of his subjects. The king was supposedly very delighted with the game and asked the sub-\n",
    "    ject what he wanted in return. The subject, being clever, asked for one grain of wheat on the fi rst\n",
    "    square, two grains of wheat on the second square, four grains of wheat on the third square, and so forth,\n",
    "    doubling the amount on each next square. The king thought that this was a modest reward for such an\n",
    "    invention. However, the total amount of wheat would have been more than 1,000 times the current\n",
    "    world production.\n",
    "    \n",
    "    Develop and test a Python program that calculates how much wheat this would be in pounds, using\n",
    "    the fact that a grain of wheat weighs approximately 1/7,000 of a pound.\n",
    "    \n",
    "__Solution:__"
   ]
  },
  {
   "cell_type": "code",
   "execution_count": 16,
   "metadata": {
    "collapsed": false
   },
   "outputs": [
    {
     "name": "stdout",
     "output_type": "stream",
     "text": [
      "2635249153387079.0\n"
     ]
    }
   ],
   "source": [
    "print(format((sum([2**i for i in range(64)])/7000), '.1f'))"
   ]
  },
  {
   "cell_type": "markdown",
   "metadata": {},
   "source": [
    "__D2: Life Signs__    \n",
    "    \n",
    "    Develop and test a program that determines approximately how many breaths and how many heartbeats the 20 year old person has had in their life. The average respiration (breath) rate of people changes during different stages of development. Use the breath rates given below for use in your program:\n",
    "    \n",
    "                         Breaths per Minute\n",
    "    Infant               30–60 \n",
    "    1–4 years            20–30 \n",
    "    5–14 years           15–25     \n",
    "    adults               12–20\n",
    "    For heart rate, use an average of 67.5 beats per second.\n",
    "    \n",
    "__Solution:__"
   ]
  },
  {
   "cell_type": "code",
   "execution_count": 17,
   "metadata": {
    "collapsed": false
   },
   "outputs": [
    {
     "name": "stdout",
     "output_type": "stream",
     "text": [
      "20 years old person had breath approximately:  216547200  times\n",
      "20 years old person had heartbeats approximately:  42573600000.0  times\n"
     ]
    }
   ],
   "source": [
    "age = 20\n",
    "total_breaths = 45*60*24*365\n",
    "age -= 1\n",
    "total_breaths += 25*60*24*365*3\n",
    "age -= 3\n",
    "total_breaths += 20*60*24*365*9\n",
    "age -= 9\n",
    "total_breaths += 16*60*24*365*7\n",
    "\n",
    "heart_beats = 67.5*60*60*24*365*20\n",
    "\n",
    "print(\"20 years old person had breath approximately: \", total_breaths , \" times\")\n",
    "print(\"20 years old person had heartbeats approximately: \", heart_beats , \" times\")"
   ]
  }
 ],
 "metadata": {
  "anaconda-cloud": {},
  "kernelspec": {
   "display_name": "Python [default]",
   "language": "python",
   "name": "python3"
  },
  "language_info": {
   "codemirror_mode": {
    "name": "ipython",
    "version": 3
   },
   "file_extension": ".py",
   "mimetype": "text/x-python",
   "name": "python",
   "nbconvert_exporter": "python",
   "pygments_lexer": "ipython3",
   "version": "3.5.2"
  }
 },
 "nbformat": 4,
 "nbformat_minor": 1
}
